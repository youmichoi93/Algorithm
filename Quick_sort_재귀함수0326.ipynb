{
 "cells": [
  {
   "cell_type": "code",
   "execution_count": 26,
   "metadata": {},
   "outputs": [],
   "source": [
    "def Quick_sort(a):\n",
    "    n=len(a)\n",
    "    if n<=1:\n",
    "        return a\n",
    "    pivot = a[-1]\n",
    "    g_left =[]\n",
    "    g_right = []\n",
    "    for i in range(0,n-1):\n",
    "        if a[i]<=pivot:\n",
    "            g_left.append(a[i])\n",
    "        else:\n",
    "            g_right.append(a[i])\n",
    "    print(g_left,end=\"left <-> right\"),print(g_right)\n",
    "\n",
    "    return Quick_sort(g_left)+ [pivot] + Quick_sort(g_right)\n",
    "\n"
   ]
  },
  {
   "cell_type": "code",
   "execution_count": 27,
   "metadata": {},
   "outputs": [
    {
     "name": "stdout",
     "output_type": "stream",
     "text": [
      "[8, 12, 1, 9, 25]left <-> right[102, 32, 98]\n",
      "[8, 12, 1, 9]left <-> right[]\n",
      "[8, 1]left <-> right[12]\n",
      "[]left <-> right[8]\n",
      "[32]left <-> right[102]\n",
      "[1, 8, 9, 12, 25, 31, 32, 98, 102]\n"
     ]
    }
   ],
   "source": [
    "d = [8,12,1,9,102,25,32,98,31]\n",
    "print(Quick_sort(d))"
   ]
  },
  {
   "cell_type": "code",
   "execution_count": 3,
   "metadata": {},
   "outputs": [
    {
     "name": "stdout",
     "output_type": "stream",
     "text": [
      "hi\n",
      "hi\n",
      "hi\n",
      "hi\n",
      "hi\n",
      "hi\n",
      "hi\n",
      "hi\n",
      "hi\n",
      "hi\n",
      "hi\n"
     ]
    }
   ],
   "source": [
    "# 재귀함수 : 자기 자신을 호출 하는 함수, 파이썬에서는 재귀 깊이의 한계가 정해져있다. 기본적으로 1000번까지 수행\n",
    "# 재귀함수를 사용할 때는 종료 시점을 설정해야만 한다.\n",
    "# 나와서가 아니라 안에서 계속 뺑뺑이 도는 것, 따라서 저장 된 것이 계속 들어가서 메모리 유지되어 좋지 않음. 따라서 한계가 있음.\n",
    "\n",
    "def rec_func(i):\n",
    "    print(\"hi\")\n",
    "    if i <10 :\n",
    "        rec_func(i+1)\n",
    "\n",
    "rec_func(0)"
   ]
  },
  {
   "cell_type": "code",
   "execution_count": 33,
   "metadata": {},
   "outputs": [
    {
     "name": "stdout",
     "output_type": "stream",
     "text": [
      "55\n"
     ]
    }
   ],
   "source": [
    "# Quiz 1에서 10까지 합을 재귀함수로 구현\n",
    "\n",
    "def sum(n):\n",
    "    a = 0                #합을 계산할 변수 = 0으로 초기화\n",
    "    for i in range(1,n+1): # for문으로 1부터 n까지 숫자사이를 돌리기\n",
    "        a += i             # 합의 변수 a 는 a + i로 변경\n",
    "    return a               #포문이 끝나면 결과값 a리턴\n",
    "        \n",
    "print(sum(10))             #sum함수 사용하여 10까지의 합을 출력\n"
   ]
  },
  {
   "cell_type": "code",
   "execution_count": null,
   "metadata": {},
   "outputs": [],
   "source": []
  }
 ],
 "metadata": {
  "kernelspec": {
   "display_name": "Python 3",
   "language": "python",
   "name": "python3"
  },
  "language_info": {
   "codemirror_mode": {
    "name": "ipython",
    "version": 3
   },
   "file_extension": ".py",
   "mimetype": "text/x-python",
   "name": "python",
   "nbconvert_exporter": "python",
   "pygments_lexer": "ipython3",
   "version": "3.8.5"
  }
 },
 "nbformat": 4,
 "nbformat_minor": 4
}
